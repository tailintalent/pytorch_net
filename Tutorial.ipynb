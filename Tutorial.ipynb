{
 "cells": [
  {
   "cell_type": "code",
   "execution_count": 1,
   "metadata": {},
   "outputs": [],
   "source": [
    "import numpy as np\n",
    "from sklearn.model_selection import train_test_split\n",
    "import torch\n",
    "import torch.nn as nn\n",
    "import torch.optim as optim\n",
    "from torch.autograd import Variable\n",
    "import torch.utils.data as data_utils\n",
    "import matplotlib.pylab as plt\n",
    "from net import MLP\n",
    "from util import Early_Stopping"
   ]
  },
  {
   "cell_type": "markdown",
   "metadata": {},
   "source": [
    "## Preparing dataset:"
   ]
  },
  {
   "cell_type": "code",
   "execution_count": 2,
   "metadata": {},
   "outputs": [],
   "source": [
    "# Preparing some toy dataset:\n",
    "X = np.random.randn(1000,1)\n",
    "y = X ** 2\n",
    "X_train, X_test, y_train, y_test = train_test_split(X, y, test_size = 0.2)\n",
    "X_train = Variable(torch.FloatTensor(X_train))\n",
    "y_train = Variable(torch.FloatTensor(y_train))\n",
    "X_test = Variable(torch.FloatTensor(X_test))\n",
    "y_test = Variable(torch.FloatTensor(y_test))"
   ]
  },
  {
   "cell_type": "markdown",
   "metadata": {},
   "source": [
    "## Constuct the network:"
   ]
  },
  {
   "cell_type": "code",
   "execution_count": 3,
   "metadata": {},
   "outputs": [],
   "source": [
    "# Constuct the network:\n",
    "input_size = 1\n",
    "struct_param = [\n",
    "    [2, \"Simple_Layer\", {}],   # (number of neurons in each layer, layer_type, layer settings)\n",
    "    [400, \"Simple_Layer\", {\"activation\": \"relu\"}],\n",
    "    [1, \"Simple_Layer\", {\"activation\": \"linear\"}],\n",
    "]\n",
    "settings = {\"activation\": \"relu\"} # Default activation if the activation is not specified in \"struct_param\" in each layer.\n",
    "                                    # If the activation is specified, it will overwrite this default settings.\n",
    "\n",
    "net = MLP(input_size = input_size,\n",
    "          struct_param = struct_param,\n",
    "          settings = settings,\n",
    "         )"
   ]
  },
  {
   "cell_type": "code",
   "execution_count": null,
   "metadata": {},
   "outputs": [],
   "source": [
    "# Get the prediction of the Net:\n",
    "net(X_train)"
   ]
  },
  {
   "cell_type": "markdown",
   "metadata": {},
   "source": [
    "## Training:"
   ]
  },
  {
   "cell_type": "code",
   "execution_count": null,
   "metadata": {},
   "outputs": [],
   "source": [
    "# training settings:\n",
    "batch_size = 128\n",
    "epochs = 500\n",
    "\n",
    "# Prepare training set batches:\n",
    "dataset_train = data_utils.TensorDataset(X_train.data, y_train.data)   #  The data_loader must use the torch Tensor, not Variable. So I use X_train.data to get the Tensor.\n",
    "train_loader = data_utils.DataLoader(dataset_train, batch_size = batch_size, shuffle = True)\n",
    "\n",
    "# Set up optimizer:\n",
    "optimizer = optim.Adam(net.parameters(), lr = 1e-3)\n",
    "# Get loss function. Choose from \"mse\" or \"huber\", etc.\n",
    "criterion = nn.MSELoss()\n",
    "# Set up early stopping. If the validation loss does not go down after \"patience\" number of epochs, early stop.\n",
    "early_stopping = Early_Stopping(patience = 10) "
   ]
  },
  {
   "cell_type": "code",
   "execution_count": null,
   "metadata": {},
   "outputs": [],
   "source": [
    "to_stop = False\n",
    "for epoch in range(epochs):\n",
    "    for batch_id, (X_batch, y_batch) in enumerate(train_loader):\n",
    "        # Every learning step must contain the following 5 steps:\n",
    "        optimizer.zero_grad()   # Zero out the gradient buffer\n",
    "        pred = net(Variable(X_batch))   # Obtain network's prediction\n",
    "        loss_train = criterion(pred, Variable(y_batch))  # Calculate the loss\n",
    "        loss_train.backward()    # Perform backward step on the loss to calculate the gradient for each parameter\n",
    "        optimizer.step()         # Use the optimizer to perform one step of parameter update\n",
    "        \n",
    "    # Validation at the end of each epoch:\n",
    "    loss_test = criterion(net(X_test), y_test)\n",
    "    to_stop = early_stopping.monitor(loss_test.data[0])\n",
    "    print(\"epoch {0} \\tbatch {1} \\tloss_train: {2:.6f}\\tloss_test: {3:.6f}\".format(epoch, batch_id, loss_train.data[0], loss_test.data[0]))\n",
    "    if to_stop:\n",
    "        print(\"Early stopping at epoch {0}\".format(epoch))\n",
    "        break"
   ]
  }
 ],
 "metadata": {
  "kernelspec": {
   "display_name": "Python 3",
   "language": "python",
   "name": "python3"
  },
  "language_info": {
   "codemirror_mode": {
    "name": "ipython",
    "version": 3
   },
   "file_extension": ".py",
   "mimetype": "text/x-python",
   "name": "python",
   "nbconvert_exporter": "python",
   "pygments_lexer": "ipython3",
   "version": "3.5.2"
  }
 },
 "nbformat": 4,
 "nbformat_minor": 2
}
